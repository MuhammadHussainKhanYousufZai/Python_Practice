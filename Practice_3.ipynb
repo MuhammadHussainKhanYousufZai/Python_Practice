{
 "cells": [
  {
   "cell_type": "code",
   "execution_count": null,
   "metadata": {},
   "outputs": [],
   "source": [
    "#Write a python function to find the max of six numbers"
   ]
  },
  {
   "cell_type": "code",
   "execution_count": null,
   "metadata": {},
   "outputs": [],
   "source": [
    "n1=3\n",
    "n2 =4\n",
    "n3=2\n",
    "n4=9\n",
    "n6=1\n",
    "n5=12"
   ]
  },
  {
   "cell_type": "code",
   "execution_count": null,
   "metadata": {},
   "outputs": [],
   "source": [
    "def max(n1,n2,n3,n4,n5,n6):\n",
    "    if (n1>n2) and (n1>n3) and (n1>n4) and (n1>n5) and (n1>n6):\n",
    "        print(\"The greater Number is: \",n1)\n",
    "    elif  (n2>n3) and (n2>n4) and (n2>n5) and (n2>n6):\n",
    "        print(\"The greater Number is: \",n2)\n",
    "    elif (n3>n4) and (n3>n5) and (n3>n6):\n",
    "        print(\"The greater Number is: \",n3)\n",
    "    elif (n4>n5) and (n4>n6):\n",
    "        print(\"The greater Number is: \",n4)\n",
    "    elif (n5>n6):\n",
    "        print(\"The greater Number is: \",n5)\n",
    "    else:\n",
    "        print(\"The greater Number is: \",n6)\n",
    "def main():\n",
    "    a = input(\"Given Value 1: \")\n",
    "    b = input(\"Given Value 2: \")\n",
    "    c = input(\"Given Value 3: \")\n",
    "    d = input(\"Given Value 4: \")\n",
    "    e = input(\"Given Value 5: \")\n",
    "    f = input(\"Given Value 6: \")\n",
    "    z = max(a,b,c,d,e,f)\n",
    "main()\n",
    "    \n"
   ]
  },
  {
   "cell_type": "code",
   "execution_count": null,
   "metadata": {},
   "outputs": [],
   "source": [
    "#Write a code to calculate the factorial of a number (non - negative integers).the fuction accepts the number as an argument."
   ]
  },
  {
   "cell_type": "code",
   "execution_count": null,
   "metadata": {},
   "outputs": [],
   "source": [
    "def factorial(num):\n",
    "    if num == 0:\n",
    "        return num\n",
    "    else:\n",
    "        h=num * (num-1)\n",
    "        return h\n",
    "\n",
    "def main():\n",
    "    a = int(input(\"Given Number: \"))\n",
    "    z = factorial(a)\n",
    "    print(z)\n",
    "main()\n"
   ]
  },
  {
   "cell_type": "code",
   "execution_count": null,
   "metadata": {},
   "outputs": [],
   "source": [
    "#Write a code to access a function in side"
   ]
  },
  {
   "cell_type": "code",
   "execution_count": null,
   "metadata": {},
   "outputs": [],
   "source": [
    "#Write a fuction to calculate area and perimeter of a rectangle"
   ]
  },
  {
   "cell_type": "code",
   "execution_count": null,
   "metadata": {},
   "outputs": [],
   "source": []
  },
  {
   "cell_type": "code",
   "execution_count": null,
   "metadata": {},
   "outputs": [],
   "source": []
  },
  {
   "cell_type": "code",
   "execution_count": null,
   "metadata": {},
   "outputs": [],
   "source": []
  },
  {
   "cell_type": "code",
   "execution_count": null,
   "metadata": {},
   "outputs": [],
   "source": [
    "#Write a program that first check it but of two given numbers, first number is greater than or equal to other. If this \n",
    "#condition is true than check if both  given numbers are equal of not."
   ]
  },
  {
   "cell_type": "markdown",
   "metadata": {},
   "source": [
    "# Using FOR and While loop"
   ]
  },
  {
   "cell_type": "code",
   "execution_count": null,
   "metadata": {},
   "outputs": [],
   "source": [
    "# 1.print 1st 10 Natural Numbers using for and while loop"
   ]
  },
  {
   "cell_type": "code",
   "execution_count": null,
   "metadata": {},
   "outputs": [],
   "source": [
    "for i in range(1,11):\n",
    "    print(\"First 10 Natural Numbers: \",i)"
   ]
  },
  {
   "cell_type": "code",
   "execution_count": null,
   "metadata": {},
   "outputs": [],
   "source": [
    "# 2.Calculate the sum of all numbers from 1 to a given number"
   ]
  },
  {
   "cell_type": "code",
   "execution_count": null,
   "metadata": {},
   "outputs": [],
   "source": [
    "num = int(input())\n",
    "for i in range(1,num+1):\n",
    "    sum = sum + i\n",
    "print(\"Sum of the numbers: \", sum)"
   ]
  },
  {
   "cell_type": "code",
   "execution_count": null,
   "metadata": {},
   "outputs": [],
   "source": [
    "# 3.Write a program to print multiplication table of a given number."
   ]
  },
  {
   "cell_type": "code",
   "execution_count": null,
   "metadata": {},
   "outputs": [],
   "source": [
    "num = int(input())\n",
    "for i in range(1,11):\n",
    "    m = i * num\n",
    "    print(num,\"*\",i,\"=\",m)"
   ]
  },
  {
   "cell_type": "code",
   "execution_count": null,
   "metadata": {},
   "outputs": [],
   "source": [
    "# 4. Display a message from -10 to -1"
   ]
  },
  {
   "cell_type": "code",
   "execution_count": null,
   "metadata": {},
   "outputs": [],
   "source": [
    "for i in range(-10,0):\n",
    "    print(i, end =\",\")"
   ]
  },
  {
   "cell_type": "code",
   "execution_count": null,
   "metadata": {},
   "outputs": [],
   "source": [
    "# 5. Display a message \"Done\" after successfull execution of for loop"
   ]
  },
  {
   "cell_type": "code",
   "execution_count": 2,
   "metadata": {},
   "outputs": [
    {
     "name": "stdout",
     "output_type": "stream",
     "text": [
      "6\n",
      "6 ....required display....\n"
     ]
    }
   ],
   "source": [
    "num = input()\n",
    "for i in num:\n",
    "    print(i,end=' ')\n",
    "print(\"....required display....\")"
   ]
  },
  {
   "cell_type": "code",
   "execution_count": null,
   "metadata": {},
   "outputs": [],
   "source": [
    "#6.find the factorial of a given number"
   ]
  },
  {
   "cell_type": "code",
   "execution_count": 12,
   "metadata": {},
   "outputs": [
    {
     "name": "stdout",
     "output_type": "stream",
     "text": [
      "Given Number5\n",
      "Your Factorial is:  120\n"
     ]
    }
   ],
   "source": [
    "fact = int(input(\"Given Number\"))\n",
    "for i in range(fact-1,0,-1):\n",
    "    fact = fact * i\n",
    "print(\"Your Factorial is: \",fact)"
   ]
  },
  {
   "cell_type": "code",
   "execution_count": null,
   "metadata": {},
   "outputs": [],
   "source": [
    "# 7. Calculate the cube of all numbers from 1 to given number"
   ]
  },
  {
   "cell_type": "code",
   "execution_count": 1,
   "metadata": {},
   "outputs": [
    {
     "name": "stdout",
     "output_type": "stream",
     "text": [
      "2\n",
      "cube of the numbers:  8\n"
     ]
    }
   ],
   "source": [
    "num = int(input())\n",
    "for i in range(1,num+1):\n",
    "    cube = i**3\n",
    "print(\"cube of the numbers: \", cube)"
   ]
  },
  {
   "cell_type": "code",
   "execution_count": null,
   "metadata": {},
   "outputs": [],
   "source": [
    "# 8.Write a program that prints all the numbers from 0 to 6 except 3 and 6\n",
    "#Note: Use Continue statement"
   ]
  },
  {
   "cell_type": "code",
   "execution_count": null,
   "metadata": {},
   "outputs": [],
   "source": []
  },
  {
   "cell_type": "code",
   "execution_count": null,
   "metadata": {},
   "outputs": [],
   "source": [
    "# 9.Write code to check the validity password input by user.go to the validations"
   ]
  },
  {
   "cell_type": "code",
   "execution_count": null,
   "metadata": {},
   "outputs": [],
   "source": []
  },
  {
   "cell_type": "code",
   "execution_count": 2,
   "metadata": {},
   "outputs": [],
   "source": [
    "# 10.Write a code to print alphaber pattern 'D' .Go to the editor "
   ]
  },
  {
   "cell_type": "code",
   "execution_count": null,
   "metadata": {},
   "outputs": [],
   "source": []
  },
  {
   "cell_type": "code",
   "execution_count": null,
   "metadata": {},
   "outputs": [],
   "source": [
    "# 5. Use else block to display a message \"Done\" after successfull execution for loop"
   ]
  },
  {
   "cell_type": "code",
   "execution_count": null,
   "metadata": {},
   "outputs": [],
   "source": [
    "num = [int(input())]\n",
    "\n",
    "for i in num:\n",
    "    if [i] > num:\n",
    "        print(\"Wrong\")\n",
    "    else:\n",
    "        print(\"Done\")\n",
    "    "
   ]
  },
  {
   "cell_type": "code",
   "execution_count": null,
   "metadata": {},
   "outputs": [],
   "source": []
  }
 ],
 "metadata": {
  "kernelspec": {
   "display_name": "Python 3",
   "language": "python",
   "name": "python3"
  },
  "language_info": {
   "codemirror_mode": {
    "name": "ipython",
    "version": 3
   },
   "file_extension": ".py",
   "mimetype": "text/x-python",
   "name": "python",
   "nbconvert_exporter": "python",
   "pygments_lexer": "ipython3",
   "version": "3.7.3"
  }
 },
 "nbformat": 4,
 "nbformat_minor": 2
}
