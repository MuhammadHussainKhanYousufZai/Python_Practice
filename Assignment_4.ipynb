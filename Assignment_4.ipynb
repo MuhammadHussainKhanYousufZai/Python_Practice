{
 "cells": [
  {
   "cell_type": "code",
   "execution_count": 1,
   "metadata": {},
   "outputs": [],
   "source": [
    "#Q:1 Take 10 integers from keyboard without using loop and print their average value on the screen."
   ]
  },
  {
   "cell_type": "code",
   "execution_count": 14,
   "metadata": {},
   "outputs": [
    {
     "name": "stdout",
     "output_type": "stream",
     "text": [
      "v123\n",
      "v2445\n",
      "v35656\n",
      "v44556\n",
      "v54343\n",
      "v63445\n",
      "v73655\n",
      "v84554\n",
      "v9456\n",
      "v10456\n",
      "Average is: 2758.90\n"
     ]
    }
   ],
   "source": [
    "v1,v2,v3,v4,v5,v6,v7,v8,v9,v10 = int(input('v1')),int(input('v2')),int(input('v3')),int(input('v4')),int(input('v5')),int(input('v6')),int(input('v7')),int(input('v8')),int(input('v9')),int(input('v10'))\n",
    "integers = [v1,v2,v3,v4,v5,v6,v7,v8,v9,v10]\n",
    "Avg = sum(integers)/len(integers)\n",
    "print('Average is: %0.2f' %Avg)"
   ]
  },
  {
   "cell_type": "code",
   "execution_count": 13,
   "metadata": {},
   "outputs": [
    {
     "name": "stdout",
     "output_type": "stream",
     "text": [
      "Enter number: 5\n",
      "Enter number: 6\n",
      "Enter number: 7\n",
      "Enter number: 56\n",
      "Enter number: 64\n",
      "Enter number: 5656\n",
      "Enter number: 4656\n",
      "Enter number: 5656\n",
      "Enter number: 646\n",
      "Enter number: 6676\n",
      "Average of numbers = 2342.800\n"
     ]
    }
   ],
   "source": [
    "#Q:1(b) Take 10 integers from keyboard using loop and print their average value on the screen.\n",
    "total_sum = 0\n",
    "\n",
    "for n in range (10):\n",
    "    num = float(input('Enter number: '))\n",
    "    total_sum += num\n",
    "\n",
    "avg = total_sum / 10\n",
    "print('Average of numbers = %0.3f' %avg)"
   ]
  },
  {
   "cell_type": "code",
   "execution_count": 16,
   "metadata": {},
   "outputs": [
    {
     "name": "stdout",
     "output_type": "stream",
     "text": [
      "Table number: 50\n",
      "50  *  1  =  50\n",
      "50  *  2  =  100\n",
      "50  *  3  =  150\n",
      "50  *  4  =  200\n",
      "50  *  5  =  250\n",
      "50  *  6  =  300\n",
      "50  *  7  =  350\n",
      "50  *  8  =  400\n",
      "50  *  9  =  450\n",
      "50  *  10  =  500\n"
     ]
    }
   ],
   "source": [
    "#Q:2 Print multiplication table of 24, 50 and 29 using while loop.\n",
    "i = 1\n",
    "num = int(input('Table number: '))\n",
    "while i <= 10:\n",
    "    print(num, \" * \", i , \" = \", num * i)\n",
    "    i += 1"
   ]
  },
  {
   "cell_type": "code",
   "execution_count": null,
   "metadata": {},
   "outputs": [],
   "source": [
    "#Q:3 Write an infinite loop. A inifinte loop never ends. Condition is always true.\n",
    "num = int(input('Table Number: '))\n",
    "while True:\n",
    "    num += 1\n",
    "    print(num)\n",
    "    "
   ]
  },
  {
   "cell_type": "code",
   "execution_count": 1,
   "metadata": {},
   "outputs": [
    {
     "data": {
      "text/plain": [
       "'Q:4 Take integer inputs from user until he/she presses q ( Ask to press q to quit after every integer input ). Print average and product of all numbers.'"
      ]
     },
     "execution_count": 1,
     "metadata": {},
     "output_type": "execute_result"
    }
   ],
   "source": [
    "'''Q:4 Take integer inputs from user until he/she presses q ( Ask to press q to quit after every integer input ). Print average,sum and product of all numbers.'''"
   ]
  },
  {
   "cell_type": "code",
   "execution_count": 11,
   "metadata": {},
   "outputs": [
    {
     "name": "stdout",
     "output_type": "stream",
     "text": [
      "Enter the number (or 'q' to quit): 2\n",
      "Enter the number (or 'q' to quit): 2\n",
      "Enter the number (or 'q' to quit): 2\n",
      "Enter the number (or 'q' to quit): q\n",
      "Avg:  2.0 \n",
      "Sum:  6 \n",
      "Product:  8\n"
     ]
    }
   ],
   "source": [
    "count = 0\n",
    "summ = 0\n",
    "product = 1\n",
    "\n",
    "while True:\n",
    "    num = input(\"Enter the number (or 'q' to quit): \")\n",
    "    if num == 'q':\n",
    "        Avg = summ/count\n",
    "        print('Avg: ', Avg, '\\nSum: ', summ,'\\nProduct: ',product)\n",
    "        break\n",
    "    count += 1\n",
    "    summ += int(num)\n",
    "    product *= int(num)\n"
   ]
  },
  {
   "cell_type": "code",
   "execution_count": 13,
   "metadata": {},
   "outputs": [
    {
     "name": "stdout",
     "output_type": "stream",
     "text": [
      "*\n",
      "**\n",
      "***\n"
     ]
    }
   ],
   "source": [
    "#Q:5(a) Print the following patterns using loop :\n",
    "for i in range(1, 4):\n",
    "    print(\"*\" * i)"
   ]
  },
  {
   "cell_type": "code",
   "execution_count": null,
   "metadata": {},
   "outputs": [],
   "source": [
    "#Q:5(b) Print the following patterns using loop :"
   ]
  },
  {
   "cell_type": "code",
   "execution_count": 23,
   "metadata": {},
   "outputs": [
    {
     "name": "stdout",
     "output_type": "stream",
     "text": [
      "  *\n",
      " ***\n",
      "*****\n",
      " ***\n",
      "  *\n"
     ]
    }
   ],
   "source": [
    "for i in range(1,3):\n",
    "    print(\" \"*(3-i),end = \"\")\n",
    "    print(\"*\"*(2*i-1))\n",
    "for j in range(3,0 ,-1):\n",
    "    print(\" \"*(3-j),end = \"\")\n",
    "    print(\"*\"*(2*j-1))"
   ]
  },
  {
   "cell_type": "code",
   "execution_count": null,
   "metadata": {},
   "outputs": [],
   "source": []
  },
  {
   "cell_type": "code",
   "execution_count": null,
   "metadata": {},
   "outputs": [],
   "source": []
  },
  {
   "cell_type": "code",
   "execution_count": null,
   "metadata": {},
   "outputs": [],
   "source": []
  }
 ],
 "metadata": {
  "kernelspec": {
   "display_name": "Python 3",
   "language": "python",
   "name": "python3"
  },
  "language_info": {
   "codemirror_mode": {
    "name": "ipython",
    "version": 3
   },
   "file_extension": ".py",
   "mimetype": "text/x-python",
   "name": "python",
   "nbconvert_exporter": "python",
   "pygments_lexer": "ipython3",
   "version": "3.7.3"
  }
 },
 "nbformat": 4,
 "nbformat_minor": 2
}
