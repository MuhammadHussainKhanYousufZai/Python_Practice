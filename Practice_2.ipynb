{
 "cells": [
  {
   "cell_type": "code",
   "execution_count": 1,
   "metadata": {},
   "outputs": [],
   "source": [
    "#take user input and a display it on the screen"
   ]
  },
  {
   "cell_type": "code",
   "execution_count": 3,
   "metadata": {},
   "outputs": [
    {
     "name": "stdout",
     "output_type": "stream",
     "text": [
      "User Input: hussain\n"
     ]
    }
   ],
   "source": [
    "User = input(\"User Input: \")"
   ]
  },
  {
   "cell_type": "code",
   "execution_count": null,
   "metadata": {},
   "outputs": [],
   "source": [
    "# take two numbers from the user and add them"
   ]
  },
  {
   "cell_type": "code",
   "execution_count": 4,
   "metadata": {},
   "outputs": [
    {
     "name": "stdout",
     "output_type": "stream",
     "text": [
      "your first number: 5\n",
      "your second number: 2\n",
      "your required answer:  7\n"
     ]
    }
   ],
   "source": [
    "a = int(input(\"your first number: \"))\n",
    "b = int(input(\"your second number: \"))\n",
    "c = a + b\n",
    "print(\"your required answer: \", c)"
   ]
  },
  {
   "cell_type": "code",
   "execution_count": 10,
   "metadata": {},
   "outputs": [],
   "source": [
    "#take a number from user and check its even or odd"
   ]
  },
  {
   "cell_type": "code",
   "execution_count": 6,
   "metadata": {},
   "outputs": [
    {
     "name": "stdout",
     "output_type": "stream",
     "text": [
      " your number: 67864\n",
      "Your number is Even:  67864\n"
     ]
    }
   ],
   "source": [
    "User_Input = int(input(\" your number: \"))\n",
    "if (User_Input % 2) == 0:\n",
    "    print(\"Your number is Even: \", User_Input)\n",
    "else:\n",
    "    print(\"Your number is Odd\", User_Input)"
   ]
  },
  {
   "cell_type": "code",
   "execution_count": 16,
   "metadata": {},
   "outputs": [],
   "source": [
    "#take three numbers from the user and print the largest of them"
   ]
  },
  {
   "cell_type": "code",
   "execution_count": 3,
   "metadata": {},
   "outputs": [
    {
     "name": "stdout",
     "output_type": "stream",
     "text": [
      "your first number: 7\n",
      "your second number: 90\n",
      "your three number: 80\n",
      "The Largest Number is:  90\n"
     ]
    }
   ],
   "source": [
    "a = int(input(\"your first number: \"))\n",
    "b = int(input(\"your second number: \"))\n",
    "c = int(input(\"your three number: \"))\n",
    "if (a > b and c):\n",
    "    print(\"The Largest Number is: \", a )\n",
    "elif (b >  c):\n",
    "    print (\"The Largest Number is: \", b)\n",
    "else:\n",
    "    print(\"The Largest Number: \", c)"
   ]
  },
  {
   "cell_type": "code",
   "execution_count": 26,
   "metadata": {},
   "outputs": [],
   "source": [
    "#Swap value of two variables"
   ]
  },
  {
   "cell_type": "code",
   "execution_count": 2,
   "metadata": {},
   "outputs": [
    {
     "name": "stdout",
     "output_type": "stream",
     "text": [
      "your 1st Input: Hussain \n",
      "your 2nd Input: Ali\n",
      "Your 1st Input before swap:  Hussain \n",
      "Your 2nd Input before swap:  Ali\n",
      "Your 1st Input after swap:  Ali\n",
      "Your 2nd Input after swap:  Hussain \n"
     ]
    }
   ],
   "source": [
    "a = input(\"your 1st Input: \")\n",
    "b = input(\"your 2nd Input: \")\n",
    "print(\"Your 1st Input before swap: \", a)\n",
    "print(\"Your 2nd Input before swap: \", b)\n",
    "\n",
    "temp = a\n",
    "a = b\n",
    "b = temp\n",
    "print(\"Your 1st Input after swap: \", a)\n",
    "print(\"Your 2nd Input after swap: \", b)"
   ]
  },
  {
   "cell_type": "code",
   "execution_count": 3,
   "metadata": {},
   "outputs": [],
   "source": [
    "#take first and last name and print the full name."
   ]
  },
  {
   "cell_type": "code",
   "execution_count": 4,
   "metadata": {},
   "outputs": [
    {
     "name": "stdout",
     "output_type": "stream",
     "text": [
      "First Name: Muhammad\n",
      "Last Name: hussain\n",
      "Full Name:  Muhammad hussain\n"
     ]
    }
   ],
   "source": [
    "a = input(\"First Name: \")\n",
    "b = input(\"Last Name: \")\n",
    "print(\"Full Name: \", a , b)"
   ]
  },
  {
   "cell_type": "code",
   "execution_count": 1,
   "metadata": {},
   "outputs": [
    {
     "name": "stdout",
     "output_type": "stream",
     "text": [
      "First Name: Muhammad \n",
      "Last Name: Hussain\n",
      "Full Name:  Muhammad Hussain\n"
     ]
    }
   ],
   "source": [
    "a = input(\"First Name: \")\n",
    "b = input(\"Last Name: \")\n",
    "print(\"Full Name: \", a + b)"
   ]
  },
  {
   "cell_type": "code",
   "execution_count": 8,
   "metadata": {},
   "outputs": [],
   "source": [
    "#Using Elif"
   ]
  },
  {
   "cell_type": "code",
   "execution_count": 17,
   "metadata": {},
   "outputs": [
    {
     "name": "stdout",
     "output_type": "stream",
     "text": [
      "Enter how much saving you have: 1002.35\n",
      "Welcome Sir\n"
     ]
    }
   ],
   "source": [
    "savings = float(input(\"Enter how much saving you have: \"))\n",
    "if savings == 0:\n",
    "    print(\"Sorry no savings\")\n",
    "elif savings < 500:\n",
    "    print(\"Well done\")\n",
    "elif savings < 1000:\n",
    "    print(\"Thats a tidy sum\")\n",
    "elif savings < 10000:\n",
    "    print(\"Welcome Sir\")\n",
    "else:\n",
    "    print(\"Thank You\")\n",
    "    "
   ]
  },
  {
   "cell_type": "markdown",
   "metadata": {},
   "source": [
    "# Assig#1"
   ]
  },
  {
   "cell_type": "code",
   "execution_count": 1,
   "metadata": {},
   "outputs": [],
   "source": [
    "#Write a Python program to count the number of even and odd numbers from a series of numbers\n"
   ]
  },
  {
   "cell_type": "code",
   "execution_count": 2,
   "metadata": {},
   "outputs": [
    {
     "name": "stdout",
     "output_type": "stream",
     "text": [
      "Even Numbers:  [2, 4, 6, 8, 12]\n",
      "Odd Numbers:  [5, 7, 9, 13]\n"
     ]
    }
   ],
   "source": [
    "Numbers = [2,4,5,6,7,8,9,12,13]\n",
    "Even_Numbers = []\n",
    "Odd_Numbers = []\n",
    "for i in Numbers:\n",
    "    if (i % 2 )==0:\n",
    "        Even_Numbers.append(i)\n",
    "    else:\n",
    "        Odd_Numbers.append(i)\n",
    "print(\"Even Numbers: \", Even_Numbers)\n",
    "print(\"Odd Numbers: \", Odd_Numbers)"
   ]
  },
  {
   "cell_type": "code",
   "execution_count": 2,
   "metadata": {},
   "outputs": [],
   "source": [
    "#Write a Python program that accepts a word from the user and reverse it"
   ]
  },
  {
   "cell_type": "code",
   "execution_count": 4,
   "metadata": {},
   "outputs": [
    {
     "name": "stdout",
     "output_type": "stream",
     "text": [
      "User Input: Hussain\n",
      "6543210"
     ]
    }
   ],
   "source": [
    "a = input(\"User Input: \")\n",
    "for i in range(len(a)-1,-1,-1):\n",
    "    print(i,end = '')"
   ]
  },
  {
   "cell_type": "code",
   "execution_count": 6,
   "metadata": {},
   "outputs": [
    {
     "name": "stdout",
     "output_type": "stream",
     "text": [
      "User Input: hussain\n",
      "niassuh"
     ]
    }
   ],
   "source": [
    "a = input(\"User Input: \")\n",
    "for i in range(len(a)-1,-1,-1):\n",
    "    print(a[i], end = '')"
   ]
  },
  {
   "cell_type": "code",
   "execution_count": 15,
   "metadata": {},
   "outputs": [],
   "source": [
    "#Reverse a List"
   ]
  },
  {
   "cell_type": "code",
   "execution_count": 14,
   "metadata": {},
   "outputs": [
    {
     "name": "stdout",
     "output_type": "stream",
     "text": [
      "[1, 2, 3, 4, 5, 6]\n",
      "[6, 5, 4, 3, 2, 1]\n"
     ]
    }
   ],
   "source": [
    "a = [1,2,3,4,5,6]\n",
    "print(a)\n",
    "a.reverse()\n",
    "print(a)"
   ]
  },
  {
   "cell_type": "code",
   "execution_count": 6,
   "metadata": {},
   "outputs": [],
   "source": [
    "#Write a Python program that accepts a string and calculate the number of digits and letters"
   ]
  },
  {
   "cell_type": "code",
   "execution_count": 14,
   "metadata": {},
   "outputs": [
    {
     "name": "stdout",
     "output_type": "stream",
     "text": [
      "Write digits and letter: Hussain123\n",
      "Number of digits and letter:  10\n"
     ]
    }
   ],
   "source": [
    "a = input(\"Write digits and letter: \")\n",
    "print(\"Number of digits and letter: \",len(a))"
   ]
  },
  {
   "cell_type": "code",
   "execution_count": 15,
   "metadata": {},
   "outputs": [],
   "source": [
    "#Write a Python program to find numbers between 100 and 400 (both included) where each digit of a number is an even number.\n",
    "#The numbers obtained should be printed in a comma-separated sequence\n"
   ]
  },
  {
   "cell_type": "code",
   "execution_count": 25,
   "metadata": {},
   "outputs": [
    {
     "name": "stdout",
     "output_type": "stream",
     "text": [
      "[200, 250, 400, 202, 102]\n"
     ]
    }
   ],
   "source": [
    "a = [200,250,430,399,600,400,99,202,102]\n",
    "even = []\n",
    "for i in range(len(a)):\n",
    "    if a[i] >=100 and a[i]<=400:\n",
    "        if a[i] % 2 == 0:\n",
    "            even.append(a[i])\n",
    "    else:\n",
    "        pass\n",
    "print(even)"
   ]
  },
  {
   "cell_type": "code",
   "execution_count": 34,
   "metadata": {},
   "outputs": [
    {
     "name": "stdout",
     "output_type": "stream",
     "text": [
      "200,202,204,206,208,220,222,224,226,228,240,242,244,246,248,260,262,264,266,268,280,282,284,286,288,400 <class 'list'>\n"
     ]
    }
   ],
   "source": [
    "items = []\n",
    "for i in range(100, 401):\n",
    "    s = str(i)\n",
    "    if (int(s[0])%2==0) and (int(s[1])%2==0) and (int(s[2])%2==0):\n",
    "        items.append(s)\n",
    "print( \",\".join(items),type(items))"
   ]
  },
  {
   "cell_type": "code",
   "execution_count": 17,
   "metadata": {},
   "outputs": [],
   "source": [
    "#Write a Python program to sum of two given integers. However, if the sum is between 15 to 20 it will return 20"
   ]
  },
  {
   "cell_type": "code",
   "execution_count": 24,
   "metadata": {},
   "outputs": [
    {
     "name": "stdout",
     "output_type": "stream",
     "text": [
      "1st Number: 14\n",
      "2nd Number: 1\n",
      "Your Required Ans:  20\n"
     ]
    }
   ],
   "source": [
    "a = int(input(\"1st Number: \"))\n",
    "b = int(input(\"2nd Number: \"))\n",
    "c = a + b\n",
    "if c >= 15 and c <= 20 :\n",
    "    print(\"Your Required Ans: \",20)\n",
    "else:\n",
    "    print(\"Your Required Ans: \",c)"
   ]
  },
  {
   "cell_type": "code",
   "execution_count": 4,
   "metadata": {},
   "outputs": [
    {
     "name": "stdout",
     "output_type": "stream",
     "text": [
      "Enter a HEX color code: #23234f\n",
      "Valid HEX color code.\n"
     ]
    }
   ],
   "source": [
    "def validate_hex_color_code(hex_code):\n",
    "    if len(hex_code) != 7 or hex_code[0] != '#':\n",
    "        return False\n",
    "    for char in hex_code[1:]:\n",
    "        if not(char.isdigit() or char in ['a', 'b', 'c', 'd', 'e', 'f', 'A', 'B', 'C', 'D', 'E', 'F']):\n",
    "            return False\n",
    "    return True\n",
    "hex_code = input(\"Enter a HEX color code: \")\n",
    "if validate_hex_color_code(hex_code):\n",
    "    print(\"Valid HEX color code.\")\n",
    "else:\n",
    "    print(\"Invalid HEX color code.\")\n"
   ]
  },
  {
   "cell_type": "code",
   "execution_count": 30,
   "metadata": {},
   "outputs": [
    {
     "name": "stdout",
     "output_type": "stream",
     "text": [
      "10\n",
      "[11, 2, 3, 4, 5]\n",
      "[11, 2, 3, 4, 5, 10]\n",
      "[2, 3, 4, 5, 10, 11]\n",
      "[2, 3, 4, 5, 10]\n",
      "[10, 5, 4, 3, 2]\n"
     ]
    }
   ],
   "source": [
    "lst =[10,11,2,3,4,5]\n",
    "a=lst[0]\n",
    "lst.remove(lst[0])\n",
    "lst.append(a)\n",
    "lst.sort()\n",
    "lst.pop(-1)\n",
    "lst.reverse()\n",
    "lst()\n",
    "    "
   ]
  },
  {
   "cell_type": "code",
   "execution_count": 24,
   "metadata": {},
   "outputs": [],
   "source": [
    "lst =[10,11,2,3,4,5]"
   ]
  },
  {
   "cell_type": "code",
   "execution_count": 25,
   "metadata": {},
   "outputs": [
    {
     "name": "stdout",
     "output_type": "stream",
     "text": [
      "10\n"
     ]
    }
   ],
   "source": [
    "a=lst[0]\n",
    "print(a)"
   ]
  },
  {
   "cell_type": "markdown",
   "metadata": {},
   "source": [
    "##Consider a list (list = []). You can perform the following commands:\n",
    "\n",
    "insert i e: Insert integer  at position .\n",
    "print: Print the list.\n",
    "remove e: Delete the first occurrence of integer .\n",
    "append e: Insert integer  at the end of the list.\n",
    "sort: Sort the list.\n",
    "pop: Pop the last element from the list.\n",
    "reverse: Reverse the list.\n",
    "Initialize your list and read in the value of  followed by  lines of commands where each command will be of the  types listed above. Iterate through each command in order and perform the corresponding operation on your list."
   ]
  },
  {
   "cell_type": "code",
   "execution_count": null,
   "metadata": {},
   "outputs": [],
   "source": [
    "if __name__ == '__main__':\n",
    "    N = int(input())\n",
    "    l = []\n",
    "    for i in range(N):\n",
    "        s = list(input().split())\n",
    "        if s[0]=='insert':\n",
    "            l.insert(int(s[1]),int(s[2]))\n",
    "        if s[0]=='remove':\n",
    "            l.remove(int(s[1]))\n",
    "        if s[0]=='append':\n",
    "            l.append(int(s[1]))\n",
    "        if s[0]=='sort':\n",
    "            l.sort()\n",
    "        if s[0]=='pop':\n",
    "            l.pop()\n",
    "        if s[0]=='reverse':\n",
    "            l.reverse()     \n",
    "        if s[0]=='print':\n",
    "            print(l)"
   ]
  },
  {
   "cell_type": "code",
   "execution_count": 34,
   "metadata": {},
   "outputs": [
    {
     "name": "stdout",
     "output_type": "stream",
     "text": [
      "[]\n"
     ]
    }
   ],
   "source": [
    "print(l)"
   ]
  },
  {
   "cell_type": "code",
   "execution_count": null,
   "metadata": {},
   "outputs": [],
   "source": []
  }
 ],
 "metadata": {
  "kernelspec": {
   "display_name": "Python 3",
   "language": "python",
   "name": "python3"
  },
  "language_info": {
   "codemirror_mode": {
    "name": "ipython",
    "version": 3
   },
   "file_extension": ".py",
   "mimetype": "text/x-python",
   "name": "python",
   "nbconvert_exporter": "python",
   "pygments_lexer": "ipython3",
   "version": "3.7.3"
  }
 },
 "nbformat": 4,
 "nbformat_minor": 2
}
