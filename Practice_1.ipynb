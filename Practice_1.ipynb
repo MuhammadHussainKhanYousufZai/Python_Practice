{
 "cells": [
  {
   "cell_type": "code",
   "execution_count": 1,
   "metadata": {},
   "outputs": [],
   "source": [
    "#Find potential sources of runtime errors in this code "
   ]
  },
  {
   "cell_type": "code",
   "execution_count": 2,
   "metadata": {},
   "outputs": [
    {
     "name": "stdout",
     "output_type": "stream",
     "text": [
      "Please enter the dividend: 6\n",
      "Please enter the divisor: 5\n",
      "1.0954451150103321\n"
     ]
    }
   ],
   "source": [
    "import math\n",
    "dividend = float(input(\"Please enter the dividend: \"))\n",
    "divisor =  float(input(\"Please enter the divisor: \"))\n",
    "quotient = dividend / divisor\n",
    "quotient_rounded = math.sqrt(quotient)\n",
    "print(quotient_rounded)"
   ]
  },
  {
   "cell_type": "code",
   "execution_count": 3,
   "metadata": {},
   "outputs": [],
   "source": [
    "#Take name, roll number and field of intrest form user and print it"
   ]
  },
  {
   "cell_type": "code",
   "execution_count": 3,
   "metadata": {},
   "outputs": [
    {
     "name": "stdout",
     "output_type": "stream",
     "text": [
      "User Name: hussain\n",
      "Roll Number: 56\n",
      "Field Of Interest: python\n",
      "My name is:  hussain My roll number is:  56 My feild of interest is:  python\n"
     ]
    }
   ],
   "source": [
    "a = input(\"User Name: \")\n",
    "b = input(\"Roll Number: \")\n",
    "c = input(\"Field Of Interest: \")\n",
    "print(\"My name is: \",a,\"My roll number is: \", b,\"My feild of interest is: \",c)"
   ]
  },
  {
   "cell_type": "code",
   "execution_count": 1,
   "metadata": {},
   "outputs": [
    {
     "name": "stdout",
     "output_type": "stream",
     "text": [
      "Given Number6\n",
      "Required Ans:  36\n"
     ]
    }
   ],
   "source": [
    "a = int(input(\"Given Number\"))\n",
    "for i in range(a,a+1):\n",
    "    print(\"Required Ans: \",i*i)"
   ]
  },
  {
   "cell_type": "code",
   "execution_count": 4,
   "metadata": {},
   "outputs": [
    {
     "name": "stdout",
     "output_type": "stream",
     "text": [
      "Input_1: Muhammad \n",
      "Input_2: Hussain\n",
      "Final Input:  Muhammad  Hussain\n"
     ]
    }
   ],
   "source": [
    "a = input(\"Input_1: \")\n",
    "b = input(\"Input_2: \")\n",
    "print(\"Final Input: \", a, b)"
   ]
  },
  {
   "cell_type": "code",
   "execution_count": 3,
   "metadata": {},
   "outputs": [
    {
     "name": "stdout",
     "output_type": "stream",
     "text": [
      "input1: Muhammad\n",
      "input2: Hussain\n",
      "Final Ans: MuhammadHussain\n"
     ]
    }
   ],
   "source": [
    "a = input(\"input1: \")\n",
    "b = input(\"input2: \")\n",
    "print(\"Final Ans: \",a,b,sep=\"\")"
   ]
  },
  {
   "cell_type": "code",
   "execution_count": 6,
   "metadata": {},
   "outputs": [
    {
     "name": "stdout",
     "output_type": "stream",
     "text": [
      "Enter valuesMuhammad Hussain\n",
      "Muhammad\n",
      "Hussain\n"
     ]
    }
   ],
   "source": [
    "a,b = input(\"Enter values\").split(\" \")\n",
    "print(a)\n",
    "print(b)"
   ]
  },
  {
   "cell_type": "code",
   "execution_count": null,
   "metadata": {},
   "outputs": [],
   "source": [
    "#file and flush and object"
   ]
  },
  {
   "cell_type": "code",
   "execution_count": 6,
   "metadata": {},
   "outputs": [],
   "source": [
    "#write a program that reads a celsius degree from the console and converts it to fahrenheit and display the result"
   ]
  },
  {
   "cell_type": "code",
   "execution_count": 2,
   "metadata": {},
   "outputs": [
    {
     "name": "stdout",
     "output_type": "stream",
     "text": [
      "User Value: 43\n",
      "Answer:  109.4\n"
     ]
    }
   ],
   "source": [
    "celsius = int(input(\"User Value: \"))\n",
    "fahrenheit = (9/5)* celsius + 32\n",
    "print(\"Answer: \",fahrenheit)"
   ]
  },
  {
   "cell_type": "code",
   "execution_count": 3,
   "metadata": {},
   "outputs": [
    {
     "name": "stdout",
     "output_type": "stream",
     "text": [
      "User Value: 43\n",
      "Answer:  109.4\n"
     ]
    }
   ],
   "source": [
    "celsius = eval(input(\"User Value: \"))\n",
    "fahrenheit = (9/5)* celsius + 32\n",
    "print(\"Answer: \",fahrenheit)"
   ]
  },
  {
   "cell_type": "code",
   "execution_count": 1,
   "metadata": {},
   "outputs": [],
   "source": [
    "#Write a program to count the number of characters (character frequency) in a string and also use strip fuction"
   ]
  },
  {
   "cell_type": "code",
   "execution_count": 13,
   "metadata": {},
   "outputs": [
    {
     "name": "stdout",
     "output_type": "stream",
     "text": [
      "User Input: Muhammad Hussain\n",
      "16 ['Muhammad', 'Hussain']\n"
     ]
    }
   ],
   "source": [
    "df = input(\"User Input: \")\n",
    "Length = len(df)\n",
    "Split = df.split(' ')\n",
    "print(Length, Split)"
   ]
  },
  {
   "cell_type": "code",
   "execution_count": 9,
   "metadata": {},
   "outputs": [
    {
     "name": "stdout",
     "output_type": "stream",
     "text": [
      "User Ans: hussain\n"
     ]
    },
    {
     "data": {
      "text/plain": [
       "'ussain'"
      ]
     },
     "execution_count": 9,
     "metadata": {},
     "output_type": "execute_result"
    }
   ],
   "source": [
    "df = input(\"User Ans: \")\n",
    "df.strip(\"h\")"
   ]
  },
  {
   "cell_type": "code",
   "execution_count": 29,
   "metadata": {},
   "outputs": [
    {
     "name": "stdout",
     "output_type": "stream",
     "text": [
      "User Ans: hussain\n",
      "ussain\n"
     ]
    }
   ],
   "source": [
    "df = input(\"User Ans: \")\n",
    "print(df.strip(\"h\"))"
   ]
  },
  {
   "cell_type": "code",
   "execution_count": 12,
   "metadata": {},
   "outputs": [
    {
     "name": "stdout",
     "output_type": "stream",
     "text": [
      "User Ans: hussain\n",
      "1\n"
     ]
    }
   ],
   "source": [
    "df = input(\"User Ans: \")\n",
    "print(df.count(\"h\"))"
   ]
  },
  {
   "cell_type": "code",
   "execution_count": 8,
   "metadata": {},
   "outputs": [
    {
     "name": "stdout",
     "output_type": "stream",
     "text": [
      "User Ans: hussain\n"
     ]
    },
    {
     "data": {
      "text/plain": [
       "'HUSSAIN'"
      ]
     },
     "execution_count": 8,
     "metadata": {},
     "output_type": "execute_result"
    }
   ],
   "source": [
    "df = input(\"User Ans: \")\n",
    "df.upper()"
   ]
  },
  {
   "cell_type": "code",
   "execution_count": 13,
   "metadata": {},
   "outputs": [
    {
     "name": "stdout",
     "output_type": "stream",
     "text": [
      "User Ans: hussain\n"
     ]
    },
    {
     "data": {
      "text/plain": [
       "'hussain'"
      ]
     },
     "execution_count": 13,
     "metadata": {},
     "output_type": "execute_result"
    }
   ],
   "source": [
    "df = input(\"User Ans: \")\n",
    "df.lower()"
   ]
  },
  {
   "cell_type": "code",
   "execution_count": 17,
   "metadata": {},
   "outputs": [
    {
     "name": "stdout",
     "output_type": "stream",
     "text": [
      "User Ans: hussain\n"
     ]
    },
    {
     "data": {
      "text/plain": [
       "6"
      ]
     },
     "execution_count": 17,
     "metadata": {},
     "output_type": "execute_result"
    }
   ],
   "source": [
    "df = input(\"User Ans: \")\n",
    "df.find(\"n\")"
   ]
  },
  {
   "cell_type": "code",
   "execution_count": 18,
   "metadata": {},
   "outputs": [],
   "source": [
    "#calculate the area of circle by using eval() function"
   ]
  },
  {
   "cell_type": "code",
   "execution_count": 21,
   "metadata": {},
   "outputs": [
    {
     "name": "stdout",
     "output_type": "stream",
     "text": [
      "5\n",
      "25 <class 'int'>\n"
     ]
    }
   ],
   "source": [
    "a = eval(input())\n",
    "print(a*a,type(a))\n"
   ]
  },
  {
   "cell_type": "code",
   "execution_count": 22,
   "metadata": {},
   "outputs": [
    {
     "name": "stdout",
     "output_type": "stream",
     "text": [
      "Radius: 7\n",
      "Area of the Circle:  153.93804002589985\n"
     ]
    }
   ],
   "source": [
    "import math\n",
    "Radius = eval(input(\"Radius: \"))\n",
    "Area_Of_Circle = math.pi*(Radius**2)\n",
    "print(\"Area of the Circle: \",Area_Of_Circle )"
   ]
  },
  {
   "cell_type": "code",
   "execution_count": 30,
   "metadata": {},
   "outputs": [],
   "source": [
    "#Write a python program to get a string from a given string where all occurrences of its first char have been changed to '$',\n",
    "#except the first sample srting: 'restart', Ans:'resta$t'"
   ]
  },
  {
   "cell_type": "code",
   "execution_count": 49,
   "metadata": {},
   "outputs": [
    {
     "name": "stdout",
     "output_type": "stream",
     "text": [
      "user input: restart\n",
      "res#ar#\n"
     ]
    }
   ],
   "source": [
    "a = input(\"user input: \")\n",
    "print(a.replace(a[6],\"#\"))\n",
    "\n"
   ]
  },
  {
   "cell_type": "code",
   "execution_count": 41,
   "metadata": {},
   "outputs": [
    {
     "name": "stdout",
     "output_type": "stream",
     "text": [
      "restart\n"
     ]
    }
   ],
   "source": [
    "print(a)"
   ]
  },
  {
   "cell_type": "code",
   "execution_count": 33,
   "metadata": {},
   "outputs": [],
   "source": [
    "#write a program to get a single string from two given strings, seprated by a space and swap the first two characters of each string.\n",
    "#sample:'abc', 'xyz'\n",
    "#result: 'xyz abc'"
   ]
  },
  {
   "cell_type": "code",
   "execution_count": 9,
   "metadata": {},
   "outputs": [
    {
     "name": "stdout",
     "output_type": "stream",
     "text": [
      "value1: hussain \n",
      "value2: khan\n",
      "Sample:  hussain  khan\n",
      "Ans:  khan hussain \n"
     ]
    }
   ],
   "source": [
    "a = input(\"value1: \")\n",
    "b = input(\"value2: \")\n",
    "print(\"Sample: \",a,b)\n",
    "temp = a\n",
    "a = b\n",
    "b = temp\n",
    "temp = a,b\n",
    "\n",
    "print(\"Ans: \", \" \".join(temp))\n"
   ]
  },
  {
   "cell_type": "code",
   "execution_count": 1,
   "metadata": {},
   "outputs": [
    {
     "name": "stdout",
     "output_type": "stream",
     "text": [
      "Hussain\n"
     ]
    }
   ],
   "source": [
    "print(\"Hussain\")"
   ]
  },
  {
   "cell_type": "code",
   "execution_count": 10,
   "metadata": {},
   "outputs": [
    {
     "name": "stdout",
     "output_type": "stream",
     "text": [
      "value1: hussain\n",
      "value2: khan\n",
      "khan hussain\n"
     ]
    }
   ],
   "source": [
    "a = input(\"value1: \")\n",
    "b = input(\"value2: \")\n",
    "\n",
    "temp = a,b = b,a\n",
    "print(' '.join(temp))\n"
   ]
  },
  {
   "cell_type": "code",
   "execution_count": 16,
   "metadata": {},
   "outputs": [
    {
     "name": "stdout",
     "output_type": "stream",
     "text": [
      "['hussain', 'Khan', 'Hassan', 'alam']\n"
     ]
    }
   ],
   "source": [
    "a = ['hussain', 'Khan','Ali','alam']\n",
    "a[2] = 'Hassan'\n",
    "print(a)"
   ]
  },
  {
   "cell_type": "code",
   "execution_count": null,
   "metadata": {},
   "outputs": [],
   "source": []
  }
 ],
 "metadata": {
  "kernelspec": {
   "display_name": "Python 3",
   "language": "python",
   "name": "python3"
  },
  "language_info": {
   "codemirror_mode": {
    "name": "ipython",
    "version": 3
   },
   "file_extension": ".py",
   "mimetype": "text/x-python",
   "name": "python",
   "nbconvert_exporter": "python",
   "pygments_lexer": "ipython3",
   "version": "3.7.3"
  }
 },
 "nbformat": 4,
 "nbformat_minor": 2
}
