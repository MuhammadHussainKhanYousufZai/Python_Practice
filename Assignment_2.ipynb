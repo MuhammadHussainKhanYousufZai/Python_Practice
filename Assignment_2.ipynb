{
 "cells": [
  {
   "cell_type": "markdown",
   "metadata": {},
   "source": [
    "# Assignment_2"
   ]
  },
  {
   "cell_type": "code",
   "execution_count": 1,
   "metadata": {},
   "outputs": [
    {
     "data": {
      "text/plain": [
       "'Q:1) A company decided to give bonus of 5% to employee if his/her year of service is more than 5 years.\\n    Ask user for their salary and year of service and print the net bonus amount.'"
      ]
     },
     "execution_count": 1,
     "metadata": {},
     "output_type": "execute_result"
    }
   ],
   "source": [
    "'''Q:1) A company decided to give bonus of 5% to employee if his/her year of service is more than 5 years.\n",
    "    Ask user for their salary and year of service and print the net bonus amount.'''"
   ]
  },
  {
   "cell_type": "code",
   "execution_count": 2,
   "metadata": {},
   "outputs": [
    {
     "name": "stdout",
     "output_type": "stream",
     "text": [
      "Your Salary: 75000\n",
      "Your Year Of Services: 7\n",
      "Your Net bonus is:  3750.0\n"
     ]
    }
   ],
   "source": [
    "User_Salary = eval(input('Your Salary: '))\n",
    "Year_Of_Services = eval(input('Your Year Of Services: '))\n",
    "if (Year_Of_Services > 5):\n",
    "    Net_Bonus = (User_Salary * 5)/100\n",
    "print('Your Net bonus is: ',Net_Bonus)\n"
   ]
  },
  {
   "cell_type": "code",
   "execution_count": 3,
   "metadata": {},
   "outputs": [
    {
     "name": "stdout",
     "output_type": "stream",
     "text": [
      "Length of Rectangle: 6\n",
      "Breadth of Rectangle: 6\n",
      "It is a Square\n"
     ]
    }
   ],
   "source": [
    "#Q:2) Take values of length and breadth of a rectangle from user and check if it is square or not.\n",
    "Length = int(input('Length of Rectangle: '))\n",
    "Breadth = int(input('Breadth of Rectangle: '))\n",
    "if Length == Breadth :\n",
    "    print('It is a Square')\n",
    "else:\n",
    "    print('It is not a Square')"
   ]
  },
  {
   "cell_type": "code",
   "execution_count": 4,
   "metadata": {},
   "outputs": [
    {
     "name": "stdout",
     "output_type": "stream",
     "text": [
      "First Value: 4\n",
      "Second Value: 6\n",
      "Second Value is greater than First Value:  6\n"
     ]
    }
   ],
   "source": [
    "#Q:3) Take two int values from user and print greatest among them.\n",
    "First_Value =  eval(input('First Value: '))\n",
    "Second_Value =  eval(input('Second Value: '))\n",
    "if First_Value > Second_Value:\n",
    "    print('First Value is greater than Second Value: ',First_Value)\n",
    "elif Second_Value > First_Value :\n",
    "    print('Second Value is greater than First Value: ',Second_Value)\n",
    "else:\n",
    "    print('Something went wrong or Maybe both values are same.')\n",
    "    "
   ]
  },
  {
   "cell_type": "code",
   "execution_count": 5,
   "metadata": {},
   "outputs": [
    {
     "data": {
      "text/plain": [
       "'Q:4) A school has following rules for grading system:\\na. Below 25 - F\\nb. 25 to 45 - E\\nc. 45 to 50 - D\\nd. 50 to 60 - C\\ne. 60 to 80 - B\\nf. Above 80 - A\\nAsk user to enter marks and print the corresponding grade.'"
      ]
     },
     "execution_count": 5,
     "metadata": {},
     "output_type": "execute_result"
    }
   ],
   "source": [
    "'''Q:4) A school has following rules for grading system:\n",
    "a. Below 25 - F\n",
    "b. 25 to 45 - E\n",
    "c. 45 to 50 - D\n",
    "d. 50 to 60 - C\n",
    "e. 60 to 80 - B\n",
    "f. Above 80 - A\n",
    "Ask user to enter marks and print the corresponding grade.'''\n"
   ]
  },
  {
   "cell_type": "code",
   "execution_count": 9,
   "metadata": {},
   "outputs": [
    {
     "name": "stdout",
     "output_type": "stream",
     "text": [
      "Your Marks: 101\n",
      "Something went wrong maybe you give negative numbers or higher than the total number.\n"
     ]
    }
   ],
   "source": [
    "Marks = eval(input('Your Marks: '))\n",
    "if (Marks >=0) and (Marks < 25):\n",
    "    print(\"Your Grade is F: \", Marks )\n",
    "elif (Marks >= 25) and (Marks < 45):\n",
    "    print(\"Your Grade is E: \", Marks )\n",
    "elif (Marks >= 45) and (Marks < 50):\n",
    "    print(\"Your Grade is D: \", Marks )\n",
    "elif (Marks >= 50) and (Marks < 60):\n",
    "    print(\"Your Grade is C: \", Marks )\n",
    "elif (Marks >= 60) and (Marks < 80):\n",
    "    print(\"Your Grade is B: \", Marks )\n",
    "elif (Marks >= 80) and (Marks <= 100):\n",
    "    print(\"Your Grade is A: \", Marks )\n",
    "else:\n",
    "    print('Something went wrong maybe you give negative numbers or higher than the total number.')"
   ]
  },
  {
   "cell_type": "code",
   "execution_count": 14,
   "metadata": {},
   "outputs": [
    {
     "name": "stdout",
     "output_type": "stream",
     "text": [
      "Age Of 1st Person: 4\n",
      "Age Of 2nd Person: 4\n",
      "Age Of 3rd Person: 4\n",
      "Age of 3rd Person is oldest\n",
      "Age of 3rd Person is youngest\n"
     ]
    }
   ],
   "source": [
    "#Q:5) Take input of age of 3 people by user and determine oldest and youngest among them.\n",
    "Age1=int(input('Age Of 1st Person: '))\n",
    "Age2=int(input('Age Of 2nd Person: '))\n",
    "Age3=int(input('Age Of 3rd Person: '))\n",
    "if Age1 > Age2 and Age1 > Age3:\n",
    "    print('Age of 1st Person is oldest')\n",
    "elif Age2 > Age1 and Age2 > Age3:\n",
    "    print('Age of 2nd Person is oldest')\n",
    "else:\n",
    "    print('Age of 3rd Person is oldest')\n",
    "if Age1 < Age2 and Age1 < Age3:\n",
    "    print('Age of 1st Person is youngest')\n",
    "elif Age2 < Age1 and Age2 < Age3:\n",
    "    print('Age of 2nd Person is youngest')\n",
    "else:\n",
    "     print('Age of 3rd Person is youngest')"
   ]
  },
  {
   "cell_type": "code",
   "execution_count": 19,
   "metadata": {},
   "outputs": [
    {
     "name": "stdout",
     "output_type": "stream",
     "text": [
      "Enter the value: -77\n",
      "The absolute value of the number is:  77\n"
     ]
    }
   ],
   "source": [
    "#Q:6) Write a program to print absolute vlaue of a number entered by user. \n",
    "Value = input(\"Enter the value: \")\n",
    "Absolute = abs(int(Value))\n",
    "print(\"The absolute value of the number is: \", Absolute)"
   ]
  },
  {
   "cell_type": "code",
   "execution_count": 20,
   "metadata": {},
   "outputs": [
    {
     "data": {
      "text/plain": [
       "'Q:7) \\nA student will not be allowed to sit in exam if his/her attendence is less than 75%.\\nTake following input from user\\nNumber of classes held\\nNumber of classes attended.\\nAnd print\\npercentage of class attended\\nIs student is allowed to sit in exam or not.'"
      ]
     },
     "execution_count": 20,
     "metadata": {},
     "output_type": "execute_result"
    }
   ],
   "source": [
    "'''Q:7) \n",
    "A student will not be allowed to sit in exam if his/her attendence is less than 75%.\n",
    "Take following input from user\n",
    "Number of classes held\n",
    "Number of classes attended.\n",
    "And print\n",
    "percentage of class attended\n",
    "Is student is allowed to sit in exam or not.'''"
   ]
  },
  {
   "cell_type": "code",
   "execution_count": 22,
   "metadata": {},
   "outputs": [
    {
     "name": "stdout",
     "output_type": "stream",
     "text": [
      "Number of classes held: 10\n",
      "Number of classes attended: 8\n",
      "Your Percentage of Attandance:  80.0\n",
      "You are allowed to sit in exam.\n"
     ]
    }
   ],
   "source": [
    "Number_Of_Classes = int(input('Number of classes held: '))\n",
    "Number_Of_Classes_Attended = int(input('Number of classes attended: '))\n",
    "Percentage = (Number_Of_Classes_Attended/Number_Of_Classes)*100\n",
    "print('Your Percentage of Attandance: ',Percentage)\n",
    "if Percentage >= 75:\n",
    "    print('You are allowed to sit in exam.')\n",
    "else:\n",
    "    print('You are not allowed to sit in exam.')"
   ]
  },
  {
   "cell_type": "code",
   "execution_count": 24,
   "metadata": {},
   "outputs": [
    {
     "data": {
      "text/plain": [
       "\"Q:8) Modify the above question to allow student to sit if he/she has medical cause. Ask user if he/she has medical cause or not ( 'Y' or 'N' ) and print accordingly.\""
      ]
     },
     "execution_count": 24,
     "metadata": {},
     "output_type": "execute_result"
    }
   ],
   "source": [
    "'''Q:8) Modify the above question to allow student to sit if he/she has medical cause. Ask user if he/she has medical cause or not ( 'Y' or 'N' ) and print accordingly.'''"
   ]
  },
  {
   "cell_type": "code",
   "execution_count": 53,
   "metadata": {},
   "outputs": [
    {
     "name": "stdout",
     "output_type": "stream",
     "text": [
      "Number of classes held: 10\n",
      "Number of classes attended: 4\n",
      "Your Percentage of Attandance:  40.0\n",
      "Do you have any medical cause to not attend the class reply in yes or no: yes\n",
      "You are allowed to sit in exam.\n"
     ]
    }
   ],
   "source": [
    "Number_Of_Classes = int(input('Number of classes held: '))\n",
    "Number_Of_Classes_Attended = int(input('Number of classes attended: '))\n",
    "Percentage = (Number_Of_Classes_Attended/Number_Of_Classes)*100\n",
    "print('Your Percentage of Attandance: ',Percentage)\n",
    "if Percentage >= 75:\n",
    "    print('You are allowed to sit in exam.')\n",
    "else:\n",
    "    Medical_Cause = input('Do you have any medical cause to not attend the class reply in yes or no: ').lower().strip()\n",
    "    \n",
    "    if Medical_Cause == 'yes':\n",
    "        print('You are allowed to sit in exam.')\n",
    "    else:\n",
    "        print('You are not allowed to sit in exam.')"
   ]
  },
  {
   "cell_type": "code",
   "execution_count": 67,
   "metadata": {},
   "outputs": [
    {
     "name": "stdout",
     "output_type": "stream",
     "text": [
      "Given Value: 1234\n",
      "Original Value:  1234 \n",
      "Reversed Value:  4321\n"
     ]
    }
   ],
   "source": [
    "#Q:9)A 4 digit number is entered through keyboard. Write a program to print a new number with digits reversed as of orignal one\n",
    "a = input('Given Value: ')\n",
    "print('Original Value: ',a,'\\nReversed Value: ',a[::-1])"
   ]
  },
  {
   "cell_type": "code",
   "execution_count": 3,
   "metadata": {},
   "outputs": [
    {
     "data": {
      "text/plain": [
       "'Q:10) Ask user to enter age, sex ( M or F ), marital status ( Y or N ) and then using following rules print their place of service.\\nif employee is female and age is in between 20 to 40, then she will work only in urban areas.\\n\\nif employee is a male and age is in between 20 to 40 then he may work in anywhere\\n\\nif employee is male and age is in between 40 t0 60 then he will work in urban areas only.\\n\\nAnd any other input of age should print \"ERROR\".\\n'"
      ]
     },
     "execution_count": 3,
     "metadata": {},
     "output_type": "execute_result"
    }
   ],
   "source": [
    "'''Q:10) Ask user to enter age, sex ( M or F ), marital status ( Y or N ) and then using following rules print their place of service.\n",
    "if employee is female and age is in between 20 to 40, then she will work only in urban areas.\n",
    "\n",
    "if employee is a male and age is in between 20 to 40 then he may work in anywhere\n",
    "\n",
    "if employee is male and age is in between 40 t0 60 then he will work in urban areas only.\n",
    "\n",
    "And any other input of age should print \"ERROR\".\n",
    "'''"
   ]
  },
  {
   "cell_type": "code",
   "execution_count": 2,
   "metadata": {},
   "outputs": [
    {
     "name": "stdout",
     "output_type": "stream",
     "text": [
      "Enter your Age: 39\n",
      "Enter your Sex: Male    \n",
      "Enter your Marital status yes or no: No   \n",
      "You can work any of our dept. you want.\n"
     ]
    }
   ],
   "source": [
    "Age = int(input('Enter your Age: '))\n",
    "Sex = input('Enter your Sex: ').lower().strip()\n",
    "Marital_Status = input('Enter your Marital status yes or no: ').lower().strip()\n",
    "if Sex == 'female' and Age >= 20 and Age < 40:\n",
    "    print('You will work in urban areas.')\n",
    "elif Sex == 'male':\n",
    "    if Age >= 20 and Age < 40:\n",
    "        print('You can work any of our dept. you want.')\n",
    "    elif Age >= 40 and Age < 60:\n",
    "        print('You will work in urban areas.')\n",
    "else:\n",
    "    print('You are not in required Age Group')"
   ]
  },
  {
   "cell_type": "code",
   "execution_count": null,
   "metadata": {},
   "outputs": [],
   "source": []
  }
 ],
 "metadata": {
  "kernelspec": {
   "display_name": "Python 3",
   "language": "python",
   "name": "python3"
  },
  "language_info": {
   "codemirror_mode": {
    "name": "ipython",
    "version": 3
   },
   "file_extension": ".py",
   "mimetype": "text/x-python",
   "name": "python",
   "nbconvert_exporter": "python",
   "pygments_lexer": "ipython3",
   "version": "3.7.3"
  }
 },
 "nbformat": 4,
 "nbformat_minor": 2
}
