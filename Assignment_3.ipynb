{
 "cells": [
  {
   "cell_type": "code",
   "execution_count": 8,
   "metadata": {},
   "outputs": [
    {
     "name": "stdout",
     "output_type": "stream",
     "text": [
      "1st Number6\n",
      "2nd Number7\n",
      "3rd Number8\n",
      "Max Number is:  8\n"
     ]
    }
   ],
   "source": [
    "#Q:1 Write a Python function to find the Max of three numbers\n",
    "def Max_Num(a,b,c):\n",
    "    if a > b and a > c:\n",
    "        print(\"Max Number is: \",a)\n",
    "    elif b > a and b > c:\n",
    "        print(\"Max Number is: \",b)\n",
    "    elif c > a and c > b:\n",
    "        print(\"Max Number is: \",c)\n",
    "    else:\n",
    "        print(\"Something went wrong....\")\n",
    "\n",
    "a = int(input(\"1st Number\"))\n",
    "b = int(input(\"2nd Number\"))\n",
    "c = int(input(\"3rd Number\"))\n",
    "Max_Num(a,b,c)"
   ]
  },
  {
   "cell_type": "code",
   "execution_count": 9,
   "metadata": {},
   "outputs": [
    {
     "data": {
      "text/plain": [
       "'Q:2  Write a Python function to calculate the factorial of a number (a non-negative integer). The function accepts the number as an '"
      ]
     },
     "execution_count": 9,
     "metadata": {},
     "output_type": "execute_result"
    }
   ],
   "source": [
    "'''Q:2  Write a Python function to calculate the factorial of a number (a non-negative integer). The function accepts the number as an '''"
   ]
  },
  {
   "cell_type": "code",
   "execution_count": 37,
   "metadata": {},
   "outputs": [
    {
     "name": "stdout",
     "output_type": "stream",
     "text": [
      "Enter Your Number: 0\n"
     ]
    },
    {
     "data": {
      "text/plain": [
       "1"
      ]
     },
     "execution_count": 37,
     "metadata": {},
     "output_type": "execute_result"
    }
   ],
   "source": [
    "def factorial(n):\n",
    "    if n == 0:\n",
    "        return 1\n",
    "    elif n > 0:\n",
    "        fact = 1\n",
    "        for i in range(1,n+1):\n",
    "            #Method 1\n",
    "            fact *= i\n",
    "        return fact\n",
    "    elif n < 0:\n",
    "        n = abs(n)\n",
    "        fact = 1\n",
    "        for i in range(1,n+1):\n",
    "            #Method 2\n",
    "            fact = fact* i\n",
    "        return fact\n",
    "    else:\n",
    "        ('Something went wrong....')\n",
    "n = int(input('Enter Your Number: '))\n",
    "factorial(n)"
   ]
  },
  {
   "cell_type": "code",
   "execution_count": 15,
   "metadata": {},
   "outputs": [
    {
     "name": "stdout",
     "output_type": "stream",
     "text": [
      "7\n"
     ]
    }
   ],
   "source": [
    "#Q:3  Write a Python program to access a function inside a functiondef test(a):\n",
    "def test(a):\n",
    "        def add(b):\n",
    "                nonlocal a\n",
    "                a += 1\n",
    "                return a+b\n",
    "        return add\n",
    "func= test(2)\n",
    "print(func(4))"
   ]
  },
  {
   "cell_type": "code",
   "execution_count": 40,
   "metadata": {},
   "outputs": [
    {
     "name": "stdout",
     "output_type": "stream",
     "text": [
      "Length of rectangle: 4\n",
      "width of rectangle: 4\n"
     ]
    },
    {
     "data": {
      "text/plain": [
       "('Area: ', 16, 'Perimeter: ', 16)"
      ]
     },
     "execution_count": 40,
     "metadata": {},
     "output_type": "execute_result"
    }
   ],
   "source": [
    "#Q:4 Write a function to calculate area and perimeter of a rectangle\n",
    "def Area_And_Perimeter(l,w):\n",
    "    Area = w*l\n",
    "    Perimeter = 2*(l + w)\n",
    "    return 'Area: ',Area,'Perimeter: ',Perimeter\n",
    "l = int(input('Length of rectangle: '))\n",
    "w = int(input('width of rectangle: '))\n",
    "Area_And_Perimeter(l,w)"
   ]
  },
  {
   "cell_type": "code",
   "execution_count": 48,
   "metadata": {},
   "outputs": [
    {
     "name": "stdout",
     "output_type": "stream",
     "text": [
      "Number2\n",
      "power3\n"
     ]
    },
    {
     "data": {
      "text/plain": [
       "('result: ', 8)"
      ]
     },
     "execution_count": 48,
     "metadata": {},
     "output_type": "execute_result"
    }
   ],
   "source": [
    "#Q:5 Write a function to calculate power of a number raised to other.\n",
    "def power(n,e):\n",
    "    res = 1\n",
    "    for i in range(1,e+1):\n",
    "        res = res*n \n",
    "    return 'result: ',res\n",
    "n = int(input('Number'))\n",
    "e = int(input('power'))\n",
    "power(n,e)"
   ]
  },
  {
   "cell_type": "code",
   "execution_count": 2,
   "metadata": {},
   "outputs": [
    {
     "name": "stdout",
     "output_type": "stream",
     "text": [
      "Enter your age: 12\n"
     ]
    },
    {
     "data": {
      "text/plain": [
       "'you are not able to cast vote'"
      ]
     },
     "execution_count": 2,
     "metadata": {},
     "output_type": "execute_result"
    }
   ],
   "source": [
    "#Q:6 Write a function to tell user if he/she is able to vote or not.( Consider minimum age of voting to be 18. )\n",
    "def vote(a):\n",
    "    if a >= 18:\n",
    "        return 'You are able to cast vote'\n",
    "    else:\n",
    "        return 'you are not able to cast vote'\n",
    "a = int(input('Enter your age: '))\n",
    "vote(a)"
   ]
  },
  {
   "cell_type": "code",
   "execution_count": 8,
   "metadata": {},
   "outputs": [
    {
     "name": "stdout",
     "output_type": "stream",
     "text": [
      "Enter your number: 12\n",
      "12 * 1 = 12\n",
      "12 * 2 = 24\n",
      "12 * 3 = 36\n",
      "12 * 4 = 48\n",
      "12 * 5 = 60\n",
      "12 * 6 = 72\n",
      "12 * 7 = 84\n",
      "12 * 8 = 96\n",
      "12 * 9 = 108\n",
      "12 * 10 = 120\n",
      "12 * 11 = 132\n",
      "12 * 12 = 144\n",
      "12 * 13 = 156\n"
     ]
    }
   ],
   "source": [
    "#Q:7 Write a function to calculate Multiplication Table of Number 12 up to 13 times.\n",
    "def table(num):\n",
    "    for i in range(1,14):\n",
    "        print(num, '*', i, '=', num*i)\n",
    "num = int(input('Enter your number: '))\n",
    "table(num)\n"
   ]
  },
  {
   "cell_type": "code",
   "execution_count": null,
   "metadata": {},
   "outputs": [],
   "source": []
  },
  {
   "cell_type": "code",
   "execution_count": null,
   "metadata": {},
   "outputs": [],
   "source": []
  }
 ],
 "metadata": {
  "kernelspec": {
   "display_name": "Python 3",
   "language": "python",
   "name": "python3"
  },
  "language_info": {
   "codemirror_mode": {
    "name": "ipython",
    "version": 3
   },
   "file_extension": ".py",
   "mimetype": "text/x-python",
   "name": "python",
   "nbconvert_exporter": "python",
   "pygments_lexer": "ipython3",
   "version": "3.7.3"
  }
 },
 "nbformat": 4,
 "nbformat_minor": 2
}
