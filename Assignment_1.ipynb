{
 "cells": [
  {
   "cell_type": "markdown",
   "metadata": {},
   "source": [
    "# Print String"
   ]
  },
  {
   "cell_type": "code",
   "execution_count": 2,
   "metadata": {},
   "outputs": [
    {
     "name": "stdout",
     "output_type": "stream",
     "text": [
      "Hello World\n"
     ]
    }
   ],
   "source": [
    "print('Hello World')"
   ]
  },
  {
   "cell_type": "code",
   "execution_count": 3,
   "metadata": {},
   "outputs": [
    {
     "name": "stdout",
     "output_type": "stream",
     "text": [
      "HellWorld\n"
     ]
    }
   ],
   "source": [
    "print('Hello\\bWorld')"
   ]
  },
  {
   "cell_type": "code",
   "execution_count": 4,
   "metadata": {},
   "outputs": [
    {
     "name": "stdout",
     "output_type": "stream",
     "text": [
      "Hello\n",
      "World\n"
     ]
    }
   ],
   "source": [
    "print('Hello\\nWorld')"
   ]
  },
  {
   "cell_type": "code",
   "execution_count": 5,
   "metadata": {},
   "outputs": [
    {
     "name": "stdout",
     "output_type": "stream",
     "text": [
      "HelloPython\n",
      "World\n"
     ]
    }
   ],
   "source": [
    "print('Hello',end='')\n",
    "print('Python')\n",
    "print('World')\n"
   ]
  },
  {
   "cell_type": "code",
   "execution_count": 6,
   "metadata": {},
   "outputs": [
    {
     "name": "stdout",
     "output_type": "stream",
     "text": [
      "Hello\tWorld\n"
     ]
    }
   ],
   "source": [
    "print('Hello\\tWorld')"
   ]
  },
  {
   "cell_type": "code",
   "execution_count": null,
   "metadata": {},
   "outputs": [],
   "source": []
  },
  {
   "cell_type": "markdown",
   "metadata": {},
   "source": [
    "# Variable Declaration"
   ]
  },
  {
   "cell_type": "code",
   "execution_count": 7,
   "metadata": {},
   "outputs": [
    {
     "name": "stdout",
     "output_type": "stream",
     "text": [
      "Volvo\n"
     ]
    }
   ],
   "source": [
    "#Q:1 Create a variable named carname and assign the value Volvo to it and print it separately.\n",
    "car_name = 'Volvo'\n",
    "print(car_name)"
   ]
  },
  {
   "cell_type": "code",
   "execution_count": 8,
   "metadata": {},
   "outputs": [
    {
     "name": "stdout",
     "output_type": "stream",
     "text": [
      "50.272\n"
     ]
    }
   ],
   "source": [
    "#Q:2(a) Write a program that compute area of circle without using any lib.\n",
    "r = 4\n",
    "Pi = 3.142\n",
    "Area_Of_Circle = Pi*r**2\n",
    "print(Area_Of_Circle)"
   ]
  },
  {
   "cell_type": "code",
   "execution_count": 9,
   "metadata": {},
   "outputs": [
    {
     "name": "stdout",
     "output_type": "stream",
     "text": [
      "50.26548245743669\n"
     ]
    }
   ],
   "source": [
    "#Q:2(b) Write a program that compute area of circle with using any lib.\n",
    "import math as M\n",
    "r = 4\n",
    "Area_Of_Circle = M.pi*r**2\n",
    "print(Area_Of_Circle)\n"
   ]
  },
  {
   "cell_type": "code",
   "execution_count": 10,
   "metadata": {},
   "outputs": [
    {
     "name": "stdout",
     "output_type": "stream",
     "text": [
      "Enter the Radius: 4\n",
      "50.26548245743669\n"
     ]
    }
   ],
   "source": [
    "#Q:2(c) Write a program that compute area of circle with using any lib and input and Int function.\n",
    "import math as M\n",
    "r = int(input(\"Enter the Radius: \"))\n",
    "Area_Of_Circle = M.pi*r**2\n",
    "print(Area_Of_Circle)"
   ]
  },
  {
   "cell_type": "code",
   "execution_count": 11,
   "metadata": {},
   "outputs": [
    {
     "name": "stdout",
     "output_type": "stream",
     "text": [
      "Enter the Radius: 4.1\n",
      "52.81017250684442\n"
     ]
    }
   ],
   "source": [
    "#Q:2(d) Write a program that compute area of circle with using any lib and input and eval function.\n",
    "import math as M\n",
    "r = eval(input(\"Enter the Radius: \"))\n",
    "Area_Of_Circle = M.pi*r**2\n",
    "print(Area_Of_Circle)"
   ]
  },
  {
   "cell_type": "code",
   "execution_count": 12,
   "metadata": {},
   "outputs": [
    {
     "name": "stdout",
     "output_type": "stream",
     "text": [
      "Enter the Radius: 4.1\n",
      "52.81017250684442\n"
     ]
    }
   ],
   "source": [
    "#Q:2(e) Write a program that compute area of circle with using any lib and input and float function.\n",
    "import math as M\n",
    "r = float(input(\"Enter the Radius: \"))\n",
    "Area_Of_Circle = M.pi*r**2\n",
    "print(Area_Of_Circle)"
   ]
  },
  {
   "cell_type": "code",
   "execution_count": 45,
   "metadata": {},
   "outputs": [
    {
     "name": "stdout",
     "output_type": "stream",
     "text": [
      "Enter Value: 12.9999999999\n",
      "12.9999999999 is a Decimal Number\n"
     ]
    }
   ],
   "source": [
    "#Q:3 Write a program that tells the data type of any variable.  The datatype should be in float,int,str.\n",
    "User_Input = input('Enter Value: ')\n",
    "if User_Input.isnumeric():\n",
    "    print(User_Input,\"is a Numeric Number\")\n",
    "elif User_Input.isalpha():\n",
    "    print(User_Input,\"is a Alphabets\")\n",
    "elif User_Input.isalnum():\n",
    "    print(User_Input,\"is a Alpha Numeric\")\n",
    "elif User_Input.isdecimal:\n",
    "    print(User_Input,\"is a Decimal Number\")\n",
    "else:\n",
    "    print(\"Something went wrong\")"
   ]
  },
  {
   "cell_type": "code",
   "execution_count": 64,
   "metadata": {},
   "outputs": [
    {
     "name": "stdout",
     "output_type": "stream",
     "text": [
      "Real Part of Complex Number: 4\n",
      "Img Part of Complex Number: 3\n",
      "4.0  Is Real Part. 3.0 Is Img Part.\n"
     ]
    }
   ],
   "source": [
    "#Q: 4 Write a program that assign complex value to the variable name complex_value and print each value separately.\n",
    "a = int(input(\"Real Part of Complex Number: \"))\n",
    "b = int(input(\"Img Part of Complex Number: \"))\n",
    "Complex_Number = complex(a,b)\n",
    "print(Complex_Number.real, ' Is Real Part.',Complex_Number.imag,'Is Img Part.')"
   ]
  },
  {
   "cell_type": "code",
   "execution_count": 69,
   "metadata": {},
   "outputs": [
    {
     "name": "stdout",
     "output_type": "stream",
     "text": [
      "First Name: Muhammad\n",
      "Last Name: Hussain\n",
      "Full Name:  Muhammad Hussain\n"
     ]
    }
   ],
   "source": [
    "#Q:5(a)  Write a program that save your first name and last name in separate variable and merge them together using join function and print them.\n",
    "First_Name = input('First Name: ')\n",
    "Last_Name = input('Last Name: ')\n",
    "Full_Name = ' '.join([First_Name,Last_Name])\n",
    "print('Full Name: ',Full_Name)"
   ]
  },
  {
   "cell_type": "code",
   "execution_count": 71,
   "metadata": {},
   "outputs": [
    {
     "name": "stdout",
     "output_type": "stream",
     "text": [
      "First Name: Muhammad \n",
      "Last Name: Hussain\n",
      "Full Name:  Muhammad Hussain\n"
     ]
    }
   ],
   "source": [
    "#Q:5(a)  Write a program that save your first name and last name in separate variable and merge them together without using join function and print them.\n",
    "First_Name = input('First Name: ')\n",
    "Last_Name = input('Last Name: ')\n",
    "Full_Name = First_Name + Last_Name\n",
    "print('Full Name: ',Full_Name)"
   ]
  },
  {
   "cell_type": "code",
   "execution_count": null,
   "metadata": {},
   "outputs": [],
   "source": []
  }
 ],
 "metadata": {
  "kernelspec": {
   "display_name": "Python 3",
   "language": "python",
   "name": "python3"
  },
  "language_info": {
   "codemirror_mode": {
    "name": "ipython",
    "version": 3
   },
   "file_extension": ".py",
   "mimetype": "text/x-python",
   "name": "python",
   "nbconvert_exporter": "python",
   "pygments_lexer": "ipython3",
   "version": "3.7.3"
  }
 },
 "nbformat": 4,
 "nbformat_minor": 2
}
